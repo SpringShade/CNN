{
  "nbformat": 4,
  "nbformat_minor": 0,
  "metadata": {
    "colab": {
      "name": "디지털기술팀 딥러닝강의 4차시 - CNN.ipynb",
      "provenance": [],
      "collapsed_sections": [],
      "authorship_tag": "ABX9TyNrswfFzKm1kfkzuxLWX4a5",
      "include_colab_link": true
    },
    "kernelspec": {
      "name": "python3",
      "display_name": "Python 3"
    },
    "language_info": {
      "name": "python"
    }
  },
  "cells": [
    {
      "cell_type": "markdown",
      "metadata": {
        "id": "view-in-github",
        "colab_type": "text"
      },
      "source": [
        "<a href=\"https://colab.research.google.com/github/SpringShade/CNN/blob/main/%EB%94%94%EC%A7%80%ED%84%B8%EA%B8%B0%EC%88%A0%ED%8C%80_%EB%94%A5%EB%9F%AC%EB%8B%9D%EA%B0%95%EC%9D%98_4%EC%B0%A8%EC%8B%9C_CNN.ipynb\" target=\"_parent\"><img src=\"https://colab.research.google.com/assets/colab-badge.svg\" alt=\"Open In Colab\"/></a>"
      ]
    },
    {
      "cell_type": "code",
      "source": [
        "from IPython.display import Image"
      ],
      "metadata": {
        "id": "QNu9mTadMNWs"
      },
      "execution_count": null,
      "outputs": []
    },
    {
      "cell_type": "markdown",
      "source": [
        "# CNN (Convolutional Neural Network)"
      ],
      "metadata": {
        "id": "F19D_pzImkqJ"
      }
    },
    {
      "cell_type": "markdown",
      "source": [
        "##Basic Concept"
      ],
      "metadata": {
        "id": "JA-41jGWiZTx"
      }
    },
    {
      "cell_type": "markdown",
      "source": [
        "Image Handling\n",
        " - Image filter (= Kernel)\n",
        " - Max/Avg Pooling (= Sub sampling)\n",
        " - Feature map\n",
        "\n",
        "Tensor Calculation\n",
        " - Convolution (b/w Input Image with Filter)\n",
        " - Zero padding\n",
        " - Stride\n",
        " - The order-3 tensor"
      ],
      "metadata": {
        "id": "ipzuhYrxiAOg"
      }
    },
    {
      "cell_type": "markdown",
      "source": [
        "## CNN Network Architecture"
      ],
      "metadata": {
        "id": "X4rK4s6DKJtn"
      }
    },
    {
      "cell_type": "code",
      "source": [
        "Image(url= \"https://raw.githubusercontent.com/SpringShade/CNN/main/res/00_cnnNetworkStructure.png\", width=640, height=229)"
      ],
      "metadata": {
        "colab": {
          "base_uri": "https://localhost:8080/",
          "height": 250
        },
        "id": "_ZaoaLdjKdn-",
        "outputId": "b515c4bb-e97b-44b0-dcee-969e10e735ae"
      },
      "execution_count": null,
      "outputs": [
        {
          "output_type": "execute_result",
          "data": {
            "text/html": [
              "<img src=\"https://raw.githubusercontent.com/SpringShade/CNN/main/res/00_cnnNetworkStructure.png\" width=\"640\" height=\"229\"/>"
            ],
            "text/plain": [
              "<IPython.core.display.Image object>"
            ]
          },
          "metadata": {},
          "execution_count": 4
        }
      ]
    },
    {
      "cell_type": "markdown",
      "source": [
        "CNN is being structed with Convoluional Layers and Pooling Layers before and after the activation function.\n",
        "\n",
        "CNN 처리 과정은 단순하게 분류기로 구성이 된 것이 아니라 특징을 추출하기 단계가 내부에 포함이 되어 있기 때문에 raw image에 대해 직접 operation이 가능하며 기존 알고리즘과 달리 별도의 전처리(pre-processing) 단계를 필요로 하지 않는다.\n",
        "\n",
        "\n",
        "특징 추출과 topology invariance를 얻기 위해 filter와 sub-sampling을 거치며, 보통 이 과정을 여러 번을 반복적으로 수행하여 local feature로부터 global feature를 얻어낸다.\n",
        "\n",
        "분류기 단계는 학습을 통해 다양한 경우에 대응할 수 있도록 해주는 것이 목표이며, 기존 신경망과 동일한 구조를 갖는다."
      ],
      "metadata": {
        "id": "gn53Th5dKJkl"
      }
    },
    {
      "cell_type": "markdown",
      "source": [
        "##First Convolution Layer"
      ],
      "metadata": {
        "id": "dFcezzSLkpET"
      }
    },
    {
      "cell_type": "code",
      "source": [
        "Image(url= \"https://raw.githubusercontent.com/SpringShade/CNN/main/res/01_1stConvolutionalLayer.png\", width=640, height=229)"
      ],
      "metadata": {
        "colab": {
          "base_uri": "https://localhost:8080/",
          "height": 250
        },
        "id": "sXjLu9E3kzvP",
        "outputId": "2d1cf3d6-af42-463a-990e-122f3734f806"
      },
      "execution_count": null,
      "outputs": [
        {
          "output_type": "execute_result",
          "data": {
            "text/html": [
              "<img src=\"https://raw.githubusercontent.com/SpringShade/CNN/main/res/01_1stConvolutionalLayer.png\" width=\"640\" height=\"229\"/>"
            ],
            "text/plain": [
              "<IPython.core.display.Image object>"
            ]
          },
          "metadata": {},
          "execution_count": 6
        }
      ]
    },
    {
      "cell_type": "markdown",
      "source": [
        "Firstly, system executes convolution between 28x28 input image with 10 numbers of 5x5 kernel filter to get 10 numbers of 24x24 matrics. The filter contains a target feature which is pre-defined by learning model.\n",
        "\n",
        "After the filtering, an activation function determines the presence or absence of the feature. ReLu and sigmoid function are mainly used.\n",
        "\n",
        "Finally, 10 number of 24x24 convolution output matrics are obtained through the filter and the activation function."
      ],
      "metadata": {
        "id": "hBWLpt4Ks0_F"
      }
    },
    {
      "cell_type": "markdown",
      "source": [
        "##First Pooling Layer"
      ],
      "metadata": {
        "id": "0mBP-gSAkt_4"
      }
    },
    {
      "cell_type": "code",
      "source": [
        "Image(url= \"https://raw.githubusercontent.com/SpringShade/CNN/main/res/02_1stPoolingLayer.png\", width=640, height=229)"
      ],
      "metadata": {
        "colab": {
          "base_uri": "https://localhost:8080/",
          "height": 250
        },
        "id": "Kym4VJJ-kyh5",
        "outputId": "4ee5094a-b29c-4798-9a37-d8464ed3dd67"
      },
      "execution_count": null,
      "outputs": [
        {
          "output_type": "execute_result",
          "data": {
            "text/html": [
              "<img src=\"https://raw.githubusercontent.com/SpringShade/CNN/main/res/02_1stPoolingLayer.png\" width=\"640\" height=\"229\"/>"
            ],
            "text/plain": [
              "<IPython.core.display.Image object>"
            ]
          },
          "metadata": {},
          "execution_count": 7
        }
      ]
    },
    {
      "cell_type": "markdown",
      "source": [
        "10 number of 24x24 outputs may derives system overload.\n",
        "\n",
        "A 2x2 Max Pooling reduces a demension of the 24x24 convolution output to 12x12 pooling output.\n"
      ],
      "metadata": {
        "id": "2U73R5YT-2Lq"
      }
    },
    {
      "cell_type": "code",
      "source": [
        "Image(url= \"https://raw.githubusercontent.com/SpringShade/CNN/main/res/03_whatIsPooling.png\", width=516, height=444)"
      ],
      "metadata": {
        "colab": {
          "base_uri": "https://localhost:8080/",
          "height": 464
        },
        "id": "x5F1wN8vqvZ8",
        "outputId": "d39d0acd-39d1-4681-bbaa-f8b982f51a5d"
      },
      "execution_count": null,
      "outputs": [
        {
          "output_type": "execute_result",
          "data": {
            "text/html": [
              "<img src=\"https://raw.githubusercontent.com/SpringShade/CNN/main/res/03_whatIsPooling.png\" width=\"516\" height=\"444\"/>"
            ],
            "text/plain": [
              "<IPython.core.display.Image object>"
            ]
          },
          "metadata": {},
          "execution_count": 13
        }
      ]
    },
    {
      "cell_type": "markdown",
      "source": [
        "##Second Convolution Layer"
      ],
      "metadata": {
        "id": "uERQiWb7k0NO"
      }
    },
    {
      "cell_type": "code",
      "source": [
        "Image(url= \"https://raw.githubusercontent.com/SpringShade/CNN/main/res/04_2ndConvolutionalLayer.png\", width=640, height=229)"
      ],
      "metadata": {
        "colab": {
          "base_uri": "https://localhost:8080/",
          "height": 250
        },
        "id": "-FNX8bxxk-8f",
        "outputId": "958ca32e-b370-48fe-c02a-3d1c90c6065e"
      },
      "execution_count": null,
      "outputs": [
        {
          "output_type": "execute_result",
          "data": {
            "text/html": [
              "<img src=\"https://raw.githubusercontent.com/SpringShade/CNN/main/res/04_2ndConvolutionalLayer.png\" width=\"640\" height=\"229\"/>"
            ],
            "text/plain": [
              "<IPython.core.display.Image object>"
            ]
          },
          "metadata": {},
          "execution_count": 11
        }
      ]
    },
    {
      "cell_type": "markdown",
      "source": [
        "In this step, system uses order-3 tensor to use 1st pooling output as Convolution input.\n",
        "\n",
        "20 number of 8x8 Convolution output are obtained by using 20 number of 5x5x10 filters."
      ],
      "metadata": {
        "id": "MR0RN6riBcd0"
      }
    },
    {
      "cell_type": "markdown",
      "source": [
        "##Second Pooling Layer"
      ],
      "metadata": {
        "id": "aog-_o6-k6KT"
      }
    },
    {
      "cell_type": "code",
      "source": [
        "Image(url= \"https://raw.githubusercontent.com/SpringShade/CNN/main/res/05_2ndPoolingLayer.png\", width=640, height=229)"
      ],
      "metadata": {
        "colab": {
          "base_uri": "https://localhost:8080/",
          "height": 250
        },
        "id": "V7cUXwP9k_hu",
        "outputId": "d23fdc84-8ed3-4255-d663-f09625682c90"
      },
      "execution_count": null,
      "outputs": [
        {
          "output_type": "execute_result",
          "data": {
            "text/html": [
              "<img src=\"https://raw.githubusercontent.com/SpringShade/CNN/main/res/05_2ndPoolingLayer.png\" width=\"640\" height=\"229\"/>"
            ],
            "text/plain": [
              "<IPython.core.display.Image object>"
            ]
          },
          "metadata": {},
          "execution_count": 10
        }
      ]
    },
    {
      "cell_type": "markdown",
      "source": [
        "A 2x2 Max Pooling reduces a demension of the 12x12 convolution output to 4x4 pooling output."
      ],
      "metadata": {
        "id": "lYKEzLzUHZkA"
      }
    },
    {
      "cell_type": "markdown",
      "source": [
        "##Flatten and Fully-Connnected Layers"
      ],
      "metadata": {
        "id": "5XKDw6CElAA8"
      }
    },
    {
      "cell_type": "code",
      "source": [
        "Image(url= \"https://raw.githubusercontent.com/SpringShade/CNN/main/res/06_Flatten.png\", width=640, height=229)"
      ],
      "metadata": {
        "colab": {
          "base_uri": "https://localhost:8080/",
          "height": 250
        },
        "id": "bMt1xRkWlC3f",
        "outputId": "a32d8b9a-9d7d-4894-b5b8-7166a4b6d053"
      },
      "execution_count": null,
      "outputs": [
        {
          "output_type": "execute_result",
          "data": {
            "text/html": [
              "<img src=\"https://raw.githubusercontent.com/SpringShade/CNN/main/res/06_Flatten.png\" width=\"640\" height=\"229\"/>"
            ],
            "text/plain": [
              "<IPython.core.display.Image object>"
            ]
          },
          "metadata": {},
          "execution_count": 9
        }
      ]
    },
    {
      "cell_type": "code",
      "source": [
        "Image(url= \"https://raw.githubusercontent.com/SpringShade/CNN/main/res/07_fullyConnectedLayers.png\", width=640, height=229)"
      ],
      "metadata": {
        "colab": {
          "base_uri": "https://localhost:8080/",
          "height": 250
        },
        "id": "3wFMkwv8lKN8",
        "outputId": "9bd50196-3866-4a29-8ccc-d21eb4c3853a"
      },
      "execution_count": null,
      "outputs": [
        {
          "output_type": "execute_result",
          "data": {
            "text/html": [
              "<img src=\"https://raw.githubusercontent.com/SpringShade/CNN/main/res/07_fullyConnectedLayers.png\" width=\"640\" height=\"229\"/>"
            ],
            "text/plain": [
              "<IPython.core.display.Image object>"
            ]
          },
          "metadata": {},
          "execution_count": 8
        }
      ]
    },
    {
      "cell_type": "markdown",
      "source": [
        "Two Convolution Layers extract feature output which requires result analysis.\n",
        "\n",
        "Fully connected Layer which requires 2-order matrics as input, determines applicational result.\n",
        "\n",
        "From above example, we can obtain 320-demension vector from the 4x4x20 pooling output."
      ],
      "metadata": {
        "id": "4EM4F1TZJ0Xe"
      }
    },
    {
      "cell_type": "markdown",
      "source": [
        "##Trainable Parameters"
      ],
      "metadata": {
        "id": "gQJV1q6RKJVU"
      }
    },
    {
      "cell_type": "code",
      "source": [
        "Image(url= \"https://raw.githubusercontent.com/SpringShade/CNN/main/res/08_trainableParameters.png\", width=640, height=229)"
      ],
      "metadata": {
        "colab": {
          "base_uri": "https://localhost:8080/",
          "height": 250
        },
        "id": "Ckv47WyArTWW",
        "outputId": "e8bc5c14-db38-49d7-e2c4-919f945448fe"
      },
      "execution_count": null,
      "outputs": [
        {
          "output_type": "execute_result",
          "data": {
            "text/html": [
              "<img src=\"https://raw.githubusercontent.com/SpringShade/CNN/main/res/08_trainableParameters.png\" width=\"640\" height=\"229\"/>"
            ],
            "text/plain": [
              "<IPython.core.display.Image object>"
            ]
          },
          "metadata": {},
          "execution_count": 14
        }
      ]
    },
    {
      "cell_type": "markdown",
      "source": [
        "From above model, trainable parameters can be represented as below:\n",
        " - 1st Convolution Layer contains 250 parameters (10 number of 5x5 filters)\n",
        " - 2nd Convolution Layer contains 5,000 parameters (20 number of 5x5 filters with 10 depth)\n",
        " - Fully connected Layer contains 32,000 parameters (320 Flatten demension vector with 100 hidden layer nodes and 10 Log Softmax)\n",
        "\n",
        "Total 38,250 trainable parameters are exist.\n"
      ],
      "metadata": {
        "id": "xvvoLWaCOaAc"
      }
    },
    {
      "cell_type": "markdown",
      "source": [
        "##Hyper-parameters"
      ],
      "metadata": {
        "id": "qgcp3ZHYXK5w"
      }
    },
    {
      "cell_type": "markdown",
      "source": [
        "From CNN, tunable parameters are as follows:\n",
        "\n",
        "In Convolution Layer\n",
        " - The Number of Filter\n",
        " - Size of Filter\n",
        " - Stride value\n",
        " - Zero-Padding or not\n",
        "\n",
        "In Pooling Layers\n",
        " - Max Pool or Avg. Pool\n",
        " - Size of Pool\n",
        " - Pool Stride value\n",
        "\n",
        "In FC Layers\n",
        " - The number of hidden layers\n",
        "\n",
        "Activation Function\n",
        " - ReLu, SoftMax or Sigmoid\n",
        "\n",
        "Random initialization\n",
        " - Gaussian, uniform or Scaling\n",
        "\n",
        "ETC\n",
        " - Optimization algorithm\n",
        " - Learning rate\n",
        " - SGD(Stochastic gradient eescent)\n",
        " - SGD with momentum\n",
        " - Adagrad\n",
        " - RMSprop"
      ],
      "metadata": {
        "id": "zinPT1DKXQ6S"
      }
    },
    {
      "cell_type": "markdown",
      "source": [
        "##Reference\n",
        " - [Why CNN?](https://blog.naver.com/laonple/220608018546)\n",
        " - [CNN - Mijeong Ban halfundecided](https://halfundecided.medium.com/%EB%94%A5%EB%9F%AC%EB%8B%9D-%EB%A8%B8%EC%8B%A0%EB%9F%AC%EB%8B%9D-cnn-convolutional-neural-networks-%EC%89%BD%EA%B2%8C-%EC%9D%B4%ED%95%B4%ED%95%98%EA%B8%B0-836869f88375)\n",
        " - [CNN based image recognition](https://bcho.tistory.com/1149)\n",
        " - [CNN outputs, paper and ImageNet summary](https://blog.naver.com/laonple/220623406512)\n",
        " - [CNN Hyperparameter](https://blog.naver.com/laonple/220624485850)\n",
        " - [CNN-based models](https://blog.naver.com/laonple/220643128255)"
      ],
      "metadata": {
        "id": "l06i0msTlJNy"
      }
    },
    {
      "cell_type": "markdown",
      "source": [
        "# Practice"
      ],
      "metadata": {
        "id": "xNZWaTfUGtyp"
      }
    },
    {
      "cell_type": "code",
      "execution_count": null,
      "metadata": {
        "id": "EmsJWdPlmOzD"
      },
      "outputs": [],
      "source": [
        "import os\n",
        "\n",
        "import numpy as np\n",
        "\n",
        "import tensorflow as tf\n",
        "assert tf.__version__.startswith('2')\n",
        "\n",
        "import matplotlib.pyplot as plt"
      ]
    }
  ]
}